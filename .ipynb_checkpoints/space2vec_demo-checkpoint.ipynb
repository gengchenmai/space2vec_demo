{
 "cells": [
  {
   "cell_type": "code",
   "execution_count": 3,
   "metadata": {},
   "outputs": [
    {
     "name": "stdout",
     "output_type": "stream",
     "text": [
      "IPython will make a temporary file named: /tmp/ipython_edit_tqslsnll/ipython_edit_hgbom20k.py\n",
      "The autoreload extension is already loaded. To reload it, use:\n",
      "  %reload_ext autoreload\n"
     ]
    }
   ],
   "source": [
    "%edit\n",
    "%load_ext autoreload\n",
    "%autoreload 2"
   ]
  },
  {
   "cell_type": "code",
   "execution_count": 4,
   "metadata": {},
   "outputs": [],
   "source": [
    "import pickle\n",
    "import torch\n",
    "from collections import OrderedDict, defaultdict\n",
    "import random\n",
    "import json\n",
    "\n",
    "import numpy as np\n",
    "\n",
    "\n",
    "from space2vec.SpatialRelationEncoder import *\n",
    "from space2vec.module import *\n",
    "from space2vec.data_utils import *\n",
    "from space2vec.utils import *"
   ]
  },
  {
   "cell_type": "code",
   "execution_count": 9,
   "metadata": {},
   "outputs": [],
   "source": [
    "params = {\n",
    "    'spa_enc_type': 'gridcell',\n",
    "    'spa_embed_dim': 64,\n",
    "    'extent': (-1, 1, -1, 1),\n",
    "    'freq': 16,\n",
    "    'max_radius': 1.0,\n",
    "    'min_radius': 1e-6,\n",
    "    'spa_f_act': \"relu\",\n",
    "    'freq_init': 'geometric',\n",
    "    'num_hidden_layer': 1,\n",
    "    'dropout': 0.5,\n",
    "    'hidden_dim': 512,\n",
    "    'use_layn': True,\n",
    "    'skip_connection': True,\n",
    "    'num_rbf_anchor_pts': 0,\n",
    "    'rbf_kernal_size': 0,\n",
    "    'spa_enc_use_postmat': True,\n",
    "    'device': 'cpu'\n",
    "}"
   ]
  },
  {
   "cell_type": "code",
   "execution_count": 16,
   "metadata": {},
   "outputs": [],
   "source": [
    "spa_enc = get_spa_encoder(\n",
    "                train_locs = [],\n",
    "                params = params, \n",
    "                spa_enc_type = params['spa_enc_type'], \n",
    "                spa_embed_dim = params['spa_embed_dim'], \n",
    "                extent = params['extent'], \n",
    "                coord_dim = 2,\n",
    "                frequency_num = params['freq'], \n",
    "                max_radius = params['max_radius'], \n",
    "                min_radius = params['min_radius'], \n",
    "                f_act = params['spa_f_act'], \n",
    "                freq_init = params['freq_init'],\n",
    "                num_rbf_anchor_pts = params['num_rbf_anchor_pts'], \n",
    "                rbf_kernal_size = params['rbf_kernal_size'],  \n",
    "                use_postmat = params['spa_enc_use_postmat'], \n",
    "                device = params['device']).to(params['device'])"
   ]
  },
  {
   "cell_type": "code",
   "execution_count": 17,
   "metadata": {},
   "outputs": [],
   "source": [
    "batch_size, num_context_pts, coord_dim = 10, 1, 2\n",
    "coords = np.random.rand(batch_size, num_context_pts, coord_dim)\n",
    "\n",
    "spa_embeds = spa_enc(coords)"
   ]
  },
  {
   "cell_type": "code",
   "execution_count": 18,
   "metadata": {},
   "outputs": [
    {
     "data": {
      "text/plain": [
       "torch.Size([10, 1, 64])"
      ]
     },
     "execution_count": 18,
     "metadata": {},
     "output_type": "execute_result"
    }
   ],
   "source": [
    "spa_embeds.shape"
   ]
  },
  {
   "cell_type": "code",
   "execution_count": null,
   "metadata": {},
   "outputs": [],
   "source": []
  }
 ],
 "metadata": {
  "kernelspec": {
   "display_name": "Python 3",
   "language": "python",
   "name": "python3"
  },
  "language_info": {
   "codemirror_mode": {
    "name": "ipython",
    "version": 3
   },
   "file_extension": ".py",
   "mimetype": "text/x-python",
   "name": "python",
   "nbconvert_exporter": "python",
   "pygments_lexer": "ipython3",
   "version": "3.6.9"
  }
 },
 "nbformat": 4,
 "nbformat_minor": 2
}
